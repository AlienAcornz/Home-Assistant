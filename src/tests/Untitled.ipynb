{
 "cells": [
  {
   "cell_type": "code",
   "execution_count": 1,
   "id": "7ea829ae-f6e8-43cc-8a9c-ebce082062b0",
   "metadata": {},
   "outputs": [],
   "source": [
    "def checknum(num):\n",
    "    return (10-num) <= 0"
   ]
  },
  {
   "cell_type": "code",
   "execution_count": 2,
   "id": "7ba657bc-e612-41c0-92a8-0bc057f3dd9a",
   "metadata": {},
   "outputs": [
    {
     "name": "stdout",
     "output_type": "stream",
     "text": [
      "False\n"
     ]
    }
   ],
   "source": [
    "print(checknum(1))"
   ]
  },
  {
   "cell_type": "code",
   "execution_count": 3,
   "id": "d647fc84-b382-4f5f-a099-f1b4a6dfda21",
   "metadata": {},
   "outputs": [
    {
     "name": "stdout",
     "output_type": "stream",
     "text": [
      "True\n"
     ]
    }
   ],
   "source": [
    "print(checknum(10))"
   ]
  }
 ],
 "metadata": {
  "kernelspec": {
   "display_name": "Python 3 (ipykernel)",
   "language": "python",
   "name": "python3"
  },
  "language_info": {
   "codemirror_mode": {
    "name": "ipython",
    "version": 3
   },
   "file_extension": ".py",
   "mimetype": "text/x-python",
   "name": "python",
   "nbconvert_exporter": "python",
   "pygments_lexer": "ipython3",
   "version": "3.11.11"
  }
 },
 "nbformat": 4,
 "nbformat_minor": 5
}
